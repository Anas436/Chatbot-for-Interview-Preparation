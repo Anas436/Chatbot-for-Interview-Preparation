{
 "cells": [
  {
   "cell_type": "code",
   "execution_count": null,
   "metadata": {},
   "outputs": [],
   "source": [
    "import pandas as pd\n",
    "pd.set_option('display.max_rows', 500)\n",
    "pd.set_option('display.max_colwidth', 500)\n",
    "rawData_df = pd.read_json('/Users/praneeth/Downloads/output.jsonl')\n",
    "labels = rawData_df['label']\n",
    "texts = rawData_df['text']\n",
    "print(labels)\n",
    "print(texts)"
   ]
  },
  {
   "cell_type": "code",
   "execution_count": null,
   "metadata": {},
   "outputs": [],
   "source": [
    "from IPython.display import display, HTML\n",
    "display(HTML(\"<style>.container { width:100% !important; }</style>\"))\n",
    "\n",
    "from pprint import pprint\n",
    "\n",
    "def label_text(label_metadata, text):\n",
    "    all_labels = []\n",
    "    for i in range(len(label_metadata)):\n",
    "        try:\n",
    "            substr = text[label_metadata[i][0]:label_metadata[i][1]+1]\n",
    "            label = label_metadata[i][2]\n",
    "            all_labels.append({'text': substr, 'label': label})\n",
    "        except TypeError:\n",
    "            print(f'TypeError detected for: label: {label_metadata[i]} text: {text}')\n",
    "\n",
    "    pprint(all_labels)\n",
    "    return all_labels\n",
    "data_with_labels = [label_text(rawData_df['label'][i], rawData_df['text'][i]) for i in range(len(rawData_df))]\n",
    "data_with_labels"
   ]
  },
  {
   "cell_type": "code",
   "execution_count": null,
   "metadata": {},
   "outputs": [],
   "source": [
    "data_with_labels_df = pd.DataFrame.from_dict(data_with_labels[0])\n",
    "\n",
    "# Count the length of each sentence, don't count blank spaces\n",
    "data_with_labels_df['length'] = data_with_labels_df['text'].apply(lambda x: len(x) - x.count(\" \"))"
   ]
  },
  {
   "cell_type": "code",
   "execution_count": null,
   "metadata": {},
   "outputs": [],
   "source": [
    "import string\n",
    "\n",
    "def count_punct(text):\n",
    "    try:\n",
    "        count = sum([1 for char in text if char in string.punctuation])\n",
    "        return round(count/(len(text) - text.count(\" \")), 3)*100\n",
    "    except ZeroDivisionError:\n",
    "        return 0\n",
    "\n",
    "data_with_labels_df['punctuation%'] = data_with_labels_df['text'].apply(lambda x: count_punct(x))\n",
    "data_with_labels_df"
   ]
  },
  {
   "cell_type": "code",
   "execution_count": null,
   "metadata": {},
   "outputs": [],
   "source": [
    "from matplotlib import pyplot\n",
    "import numpy as np\n",
    "%matplotlib inline"
   ]
  },
  {
   "cell_type": "code",
   "execution_count": null,
   "metadata": {},
   "outputs": [],
   "source": [
    "data_with_labels_df.plot(x='label', y='length', kind='scatter')\n",
    "pyplot.title('Length of the text per label distribution')\n",
    "pyplot.xticks(rotation=90)\n",
    "pyplot.show()"
   ]
  },
  {
   "cell_type": "code",
   "execution_count": null,
   "metadata": {},
   "outputs": [],
   "source": [
    "data_with_labels_df.plot(x='label', y='punctuation%', kind='scatter')\n",
    "pyplot.title('Punctuation in the text per label distribution')\n",
    "pyplot.xticks(rotation=90)\n",
    "pyplot.show()"
   ]
  }
 ],
 "metadata": {
  "kernelspec": {
   "display_name": ".venv",
   "language": "python",
   "name": "python3"
  },
  "language_info": {
   "codemirror_mode": {
    "name": "ipython",
    "version": 3
   },
   "file_extension": ".py",
   "mimetype": "text/x-python",
   "name": "python",
   "nbconvert_exporter": "python",
   "pygments_lexer": "ipython3",
   "version": "3.10.10"
  },
  "orig_nbformat": 4
 },
 "nbformat": 4,
 "nbformat_minor": 2
}
