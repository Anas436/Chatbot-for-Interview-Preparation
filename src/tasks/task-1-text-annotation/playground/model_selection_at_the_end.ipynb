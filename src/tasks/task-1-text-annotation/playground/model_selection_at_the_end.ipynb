{
 "cells": [
  {
   "cell_type": "code",
   "execution_count": null,
   "metadata": {},
   "outputs": [],
   "source": [
    "import pandas as pd\n",
    "import re\n",
    "pd.set_option('display.max_rows', 500)\n",
    "pd.set_option('display.max_colwidth', 500)\n",
    "input_file = open('/Users/praneeth/Downloads/admin.jsonl').read()\n",
    "input_file = input_file.strip()\n",
    "\n",
    "# Add \"[]\" so we can parse the json using pandas's read_json()\n",
    "input_file = re.sub(r'^', '[', input_file)\n",
    "input_file = re.sub(r'$', ']', input_file)\n",
    "\n",
    "rawData_df = pd.read_json(input_file)\n",
    "labels = rawData_df['label']\n",
    "texts = rawData_df['text']\n",
    "# print(labels)\n",
    "# print(texts)"
   ]
  },
  {
   "cell_type": "code",
   "execution_count": null,
   "metadata": {},
   "outputs": [],
   "source": [
    "from IPython.display import display, HTML\n",
    "display(HTML(\"<style>.container { width:100% !important; }</style>\"))\n",
    "\n",
    "from pprint import pprint\n",
    "\n",
    "def label_text(label_metadata, text):\n",
    "    all_labels = []\n",
    "    for i in range(len(label_metadata)):\n",
    "        try:\n",
    "            substr = text[label_metadata[i][0]:label_metadata[i][1]+1]\n",
    "            label = label_metadata[i][2]\n",
    "            all_labels.append({'text': substr, 'label': label})\n",
    "        except TypeError:\n",
    "            print(f'TypeError detected for: label: {label_metadata[i]} text: {text}')\n",
    "\n",
    "    pprint(all_labels)\n",
    "    return all_labels\n",
    "data_with_labels = [label_text(rawData_df['label'][i], rawData_df['text'][i]) for i in range(len(rawData_df))]\n",
    "data_with_labels"
   ]
  },
  {
   "cell_type": "code",
   "execution_count": null,
   "metadata": {},
   "outputs": [],
   "source": [
    "data_with_labels_df = pd.DataFrame.from_dict(data_with_labels[0])\n",
    "\n",
    "# Count the length of each sentence, don't count blank spaces\n",
    "data_with_labels_df['length'] = data_with_labels_df['text'].apply(lambda x: len(x) - x.count(\" \"))"
   ]
  },
  {
   "cell_type": "code",
   "execution_count": null,
   "metadata": {},
   "outputs": [],
   "source": [
    "import string\n",
    "\n",
    "def count_punct(text):\n",
    "    try:\n",
    "        count = sum([1 for char in text if char in string.punctuation])\n",
    "        return round(count/(len(text) - text.count(\" \")), 3)*100\n",
    "    except ZeroDivisionError:\n",
    "        return 0\n",
    "\n",
    "data_with_labels_df['punctuation%'] = data_with_labels_df['text'].apply(lambda x: count_punct(x))\n",
    "# data_with_labels_df"
   ]
  },
  {
   "cell_type": "code",
   "execution_count": null,
   "metadata": {},
   "outputs": [],
   "source": [
    "from matplotlib import pyplot\n",
    "import numpy as np\n",
    "%matplotlib inline"
   ]
  },
  {
   "cell_type": "code",
   "execution_count": null,
   "metadata": {},
   "outputs": [],
   "source": [
    "data_with_labels_df.plot(x='label', y='length', kind='scatter')\n",
    "pyplot.title('Length of the text per label distribution')\n",
    "pyplot.xticks(rotation=90)\n",
    "pyplot.show()"
   ]
  },
  {
   "cell_type": "code",
   "execution_count": null,
   "metadata": {},
   "outputs": [],
   "source": [
    "data_with_labels_df.plot(x='label', y='punctuation%', kind='scatter')\n",
    "pyplot.title('Punctuation in the text per label distribution')\n",
    "pyplot.xticks(rotation=90)\n",
    "pyplot.show()"
   ]
  },
  {
   "cell_type": "code",
   "execution_count": null,
   "metadata": {},
   "outputs": [],
   "source": [
    "import nltk\n",
    "import re\n",
    "\n",
    "nltk.download('stopwords')\n",
    "nltk.download('wordnet')\n",
    "wn = nltk.WordNetLemmatizer()\n",
    "stopwords = nltk.corpus.stopwords.words('english')\n",
    "def clean_text(text):\n",
    "    \"\"\"Clean text by\n",
    "      1. removing punctuation \n",
    "      2. tokenize \n",
    "      3. lemmatize\n",
    "\n",
    "      This is called by the vectorizers\n",
    "    \"\"\"\n",
    "    text = \"\".join([word for word in text if word not in string.punctuation])\n",
    "    tokens = re.split('\\W+', text)\n",
    "    text = [wn.lemmatize(word) for word in tokens if word not in stopwords]\n",
    "    return text\n",
    "\n",
    "# data_with_labels_df['text_clean'] = data_with_labels_df['text'].apply(lambda x: clean_text(x.lower()))"
   ]
  },
  {
   "cell_type": "code",
   "execution_count": null,
   "metadata": {},
   "outputs": [],
   "source": [
    "from sklearn.feature_extraction.text import TfidfVectorizer, CountVectorizer\n",
    "from sklearn.ensemble import RandomForestClassifier\n",
    "from sklearn.model_selection import GridSearchCV\n",
    "\n",
    "import warnings\n",
    "warnings.filterwarnings(\"ignore\", category=DeprecationWarning)\n",
    "\n",
    "# Vectorize text into document-term matrix. We could evaluate both TF-IDF and CountVectorizer to see which one is better performing\n",
    "\n",
    "# TF-IDF\n",
    "tfidf_vect = TfidfVectorizer(analyzer=clean_text)\n",
    "X_tfidf = tfidf_vect.fit_transform(data_with_labels_df['text'])\n",
    "X_tfidf_feat = pd.concat([data_with_labels_df['length'], data_with_labels_df['punctuation%'], pd.DataFrame(X_tfidf.toarray())], axis=1)\n",
    "X_tfidf_feat.columns = X_tfidf_feat.columns.astype(str)\n",
    "\n",
    "# CountVectorizer\n",
    "count_vect = CountVectorizer(analyzer=clean_text)\n",
    "X_count = count_vect.fit_transform(data_with_labels_df['text'])\n",
    "X_count_feat = pd.concat([data_with_labels_df['length'], data_with_labels_df['punctuation%'], pd.DataFrame(X_count.toarray())], axis=1)\n",
    "X_count_feat.columns = X_count_feat.columns.astype(str)\n",
    "\n",
    "data_with_labels_df.columns = data_with_labels_df.columns.astype(str)"
   ]
  },
  {
   "cell_type": "code",
   "execution_count": null,
   "metadata": {},
   "outputs": [],
   "source": [
    "# RandomForestClassifier with TF_IDF vectorized data\n",
    "rf = RandomForestClassifier()\n",
    "param = {'n_estimators': [10, 150, 300],\n",
    "        'max_depth': [30, 60, 90, None]}\n",
    "\n",
    "gs = GridSearchCV(rf, param, cv=5, n_jobs=-1)\n",
    "gs_fit = gs.fit(X_tfidf_feat, data_with_labels_df['label'])\n",
    "pd.DataFrame(gs_fit.cv_results_).sort_values('mean_test_score', ascending=False)[0:5]"
   ]
  },
  {
   "cell_type": "code",
   "execution_count": null,
   "metadata": {},
   "outputs": [],
   "source": [
    "# RandomForestClassifier with CountVectorizer vectorized data\n",
    "rf = RandomForestClassifier()\n",
    "param = {'n_estimators': [10, 150, 300],\n",
    "        'max_depth': [30, 60, 90, None]}\n",
    "\n",
    "gs = GridSearchCV(rf, param, cv=5, n_jobs=-1)\n",
    "gs_fit = gs.fit(X_count_feat, data_with_labels_df['label'])\n",
    "pd.DataFrame(gs_fit.cv_results_).sort_values('mean_test_score', ascending=False)[0:5]"
   ]
  },
  {
   "cell_type": "code",
   "execution_count": null,
   "metadata": {},
   "outputs": [],
   "source": [
    "from sklearn.model_selection import train_test_split\n",
    "\n",
    "X_train, X_test, y_train, y_test = train_test_split(data_with_labels_df[['text', 'length', 'punctuation%']], data_with_labels_df['label'], test_size=0.2)\n",
    "\n",
    "tfidf_vect = TfidfVectorizer(analyzer=clean_text)\n",
    "tfidf_vect_fit = tfidf_vect.fit(X_train['text'])\n",
    "\n",
    "tfidf_train = tfidf_vect_fit.transform(X_train['text'])\n",
    "tfidf_test = tfidf_vect_fit.transform(X_test['text'])\n",
    "\n",
    "X_train_vect = pd.concat([X_train[['length', 'punctuation%']].reset_index(drop=True), \n",
    "           pd.DataFrame(tfidf_train.toarray())], axis=1)\n",
    "X_train_vect.columns = X_train_vect.columns.astype(str)\n",
    "\n",
    "X_test_vect = pd.concat([X_test[['length', 'punctuation%']].reset_index(drop=True), \n",
    "           pd.DataFrame(tfidf_test.toarray())], axis=1)\n",
    "X_test_vect.columns = X_test_vect.columns.astype(str)\n"
   ]
  },
  {
   "cell_type": "code",
   "execution_count": null,
   "metadata": {},
   "outputs": [],
   "source": [
    "from sklearn.ensemble import RandomForestClassifier\n",
    "from sklearn.metrics import precision_recall_fscore_support as score\n",
    "\n",
    "rf = RandomForestClassifier(n_estimators=150, max_depth=None, n_jobs=-1)\n",
    "\n",
    "rf_model = rf.fit(X_train_vect, y_train)\n",
    "y_pred = rf_model.predict(X_test_vect)\n",
    "\n",
    "precision, recall, fscore, train_support = score(y_test, y_pred, labels=data_with_labels_df['label'].unique(), average='weighted')\n",
    "print('Precision: {} / Recall: {} / Accuracy: {}'.format(\n",
    "    round(precision, 3), round(recall, 3), round((y_pred==y_test).sum()/len(y_pred), 3)))"
   ]
  },
  {
   "cell_type": "code",
   "execution_count": null,
   "metadata": {},
   "outputs": [],
   "source": [
    "from sklearn.ensemble import GradientBoostingClassifier\n",
    "gb = GradientBoostingClassifier(n_estimators=150, max_depth=11)\n",
    "\n",
    "gb_model = gb.fit(X_train_vect, y_train)\n",
    "y_pred = gb_model.predict(X_test_vect)\n",
    "\n",
    "precision, recall, fscore, train_support = score(y_test, y_pred, labels=data_with_labels_df['label'].unique(), average='weighted')\n",
    "print('Precision: {} / Recall: {} / Accuracy: {}'.format(\n",
    "    round(precision, 3), round(recall, 3), round((y_pred==y_test).sum()/len(y_pred), 3)))"
   ]
  }
 ],
 "metadata": {
  "kernelspec": {
   "display_name": ".venv",
   "language": "python",
   "name": "python3"
  },
  "language_info": {
   "codemirror_mode": {
    "name": "ipython",
    "version": 3
   },
   "file_extension": ".py",
   "mimetype": "text/x-python",
   "name": "python",
   "nbconvert_exporter": "python",
   "pygments_lexer": "ipython3",
   "version": "3.10.10"
  },
  "orig_nbformat": 4
 },
 "nbformat": 4,
 "nbformat_minor": 2
}
